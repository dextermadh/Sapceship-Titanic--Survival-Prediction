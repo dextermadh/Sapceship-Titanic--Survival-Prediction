{
 "cells": [
  {
   "cell_type": "markdown",
   "id": "d6c9ac9f",
   "metadata": {},
   "source": [
    "### 📚 Introduction\n",
    "#### Here I am in the year 2912, facing an interstellar challenge that demands all my data science skills. The Spaceship Titanic, a cutting-edge passenger liner, was on its maiden voyage to three newly habitable exoplanets when disaster struck. While passing through Alpha Centauri, the ship collided with a spacetime anomaly hidden within a dust cloud. As a result, almost half of the passengers were transported to an alternate dimension, just like the Titanic from centuries ago.\n",
    "#### Now, I’m tasked with analyzing the spaceship's damaged computer records to predict which passengers were lost to the anomaly. The goal is to assist the rescue teams in recovering those passengers and changing history. It’s a big challenge, but I’m ready to use everything I’ve got to make these predictions and hopefully save the day."
   ]
  },
  {
   "cell_type": "markdown",
   "id": "b379c67d",
   "metadata": {},
   "source": [
    "#### Key Features\n",
    "\n",
    "1. **PassengerId**: A unique identifier for each passenger. The format is `gggg_pp`, where `gggg` represents the group the passenger is traveling with and `pp` is their number within the group. Group members are often family, but not always.\n",
    "\n",
    "2. **HomePlanet**: The planet from which the passenger departed, typically their permanent place of residence.\n",
    "\n",
    "3. **CryoSleep**: Indicates if the passenger opted for suspended animation for the duration of the voyage. Passengers in cryosleep remain confined to their cabins.\n",
    "\n",
    "4. **Cabin**: The cabin number where the passenger is staying, formatted as `deck/num/side`. The side can be either `P` (Port) or `S` (Starboard).\n",
    "\n",
    "5. **Destination**: The planet where the passenger will be debarking from the spaceship.\n",
    "\n",
    "6. **Age**: The age of the passenger.\n",
    "\n",
    "7. **VIP**: Indicates whether the passenger has paid for VIP service during the voyage.\n",
    "\n",
    "8. **RoomService, FoodCourt, ShoppingMall, Spa, VRDeck**: The amounts billed by the passenger for each of the spaceship's luxury amenities.\n",
    "\n",
    "9. **Name**: The full name of the passenger (first and last names).\n",
    "\n",
    "10. **Transported**: The target variable indicating whether the passenger was transported to another dimension. This is the column you're trying to predict.\n"
   ]
  },
  {
   "cell_type": "code",
   "execution_count": 1,
   "id": "7eafce93",
   "metadata": {},
   "outputs": [],
   "source": [
    "import pandas as pd  \n",
    "import numpy as np \n",
    "import matplotlib.pyplot as plt\n",
    "%matplotlib inline\n",
    "import seaborn as sns"
   ]
  },
  {
   "cell_type": "markdown",
   "id": "af220331",
   "metadata": {},
   "source": [
    "### 📊 Dataset Overview"
   ]
  },
  {
   "cell_type": "code",
   "execution_count": 2,
   "id": "9ce27ae0",
   "metadata": {},
   "outputs": [
    {
     "data": {
      "text/html": [
       "<div>\n",
       "<style scoped>\n",
       "    .dataframe tbody tr th:only-of-type {\n",
       "        vertical-align: middle;\n",
       "    }\n",
       "\n",
       "    .dataframe tbody tr th {\n",
       "        vertical-align: top;\n",
       "    }\n",
       "\n",
       "    .dataframe thead th {\n",
       "        text-align: right;\n",
       "    }\n",
       "</style>\n",
       "<table border=\"1\" class=\"dataframe\">\n",
       "  <thead>\n",
       "    <tr style=\"text-align: right;\">\n",
       "      <th></th>\n",
       "      <th>PassengerId</th>\n",
       "      <th>HomePlanet</th>\n",
       "      <th>CryoSleep</th>\n",
       "      <th>Cabin</th>\n",
       "      <th>Destination</th>\n",
       "      <th>Age</th>\n",
       "      <th>VIP</th>\n",
       "      <th>RoomService</th>\n",
       "      <th>FoodCourt</th>\n",
       "      <th>ShoppingMall</th>\n",
       "      <th>Spa</th>\n",
       "      <th>VRDeck</th>\n",
       "      <th>Name</th>\n",
       "      <th>Transported</th>\n",
       "    </tr>\n",
       "  </thead>\n",
       "  <tbody>\n",
       "    <tr>\n",
       "      <th>0</th>\n",
       "      <td>0001_01</td>\n",
       "      <td>Europa</td>\n",
       "      <td>False</td>\n",
       "      <td>B/0/P</td>\n",
       "      <td>TRAPPIST-1e</td>\n",
       "      <td>39.0</td>\n",
       "      <td>False</td>\n",
       "      <td>0.0</td>\n",
       "      <td>0.0</td>\n",
       "      <td>0.0</td>\n",
       "      <td>0.0</td>\n",
       "      <td>0.0</td>\n",
       "      <td>Maham Ofracculy</td>\n",
       "      <td>False</td>\n",
       "    </tr>\n",
       "    <tr>\n",
       "      <th>1</th>\n",
       "      <td>0002_01</td>\n",
       "      <td>Earth</td>\n",
       "      <td>False</td>\n",
       "      <td>F/0/S</td>\n",
       "      <td>TRAPPIST-1e</td>\n",
       "      <td>24.0</td>\n",
       "      <td>False</td>\n",
       "      <td>109.0</td>\n",
       "      <td>9.0</td>\n",
       "      <td>25.0</td>\n",
       "      <td>549.0</td>\n",
       "      <td>44.0</td>\n",
       "      <td>Juanna Vines</td>\n",
       "      <td>True</td>\n",
       "    </tr>\n",
       "    <tr>\n",
       "      <th>2</th>\n",
       "      <td>0003_01</td>\n",
       "      <td>Europa</td>\n",
       "      <td>False</td>\n",
       "      <td>A/0/S</td>\n",
       "      <td>TRAPPIST-1e</td>\n",
       "      <td>58.0</td>\n",
       "      <td>True</td>\n",
       "      <td>43.0</td>\n",
       "      <td>3576.0</td>\n",
       "      <td>0.0</td>\n",
       "      <td>6715.0</td>\n",
       "      <td>49.0</td>\n",
       "      <td>Altark Susent</td>\n",
       "      <td>False</td>\n",
       "    </tr>\n",
       "    <tr>\n",
       "      <th>3</th>\n",
       "      <td>0003_02</td>\n",
       "      <td>Europa</td>\n",
       "      <td>False</td>\n",
       "      <td>A/0/S</td>\n",
       "      <td>TRAPPIST-1e</td>\n",
       "      <td>33.0</td>\n",
       "      <td>False</td>\n",
       "      <td>0.0</td>\n",
       "      <td>1283.0</td>\n",
       "      <td>371.0</td>\n",
       "      <td>3329.0</td>\n",
       "      <td>193.0</td>\n",
       "      <td>Solam Susent</td>\n",
       "      <td>False</td>\n",
       "    </tr>\n",
       "    <tr>\n",
       "      <th>4</th>\n",
       "      <td>0004_01</td>\n",
       "      <td>Earth</td>\n",
       "      <td>False</td>\n",
       "      <td>F/1/S</td>\n",
       "      <td>TRAPPIST-1e</td>\n",
       "      <td>16.0</td>\n",
       "      <td>False</td>\n",
       "      <td>303.0</td>\n",
       "      <td>70.0</td>\n",
       "      <td>151.0</td>\n",
       "      <td>565.0</td>\n",
       "      <td>2.0</td>\n",
       "      <td>Willy Santantines</td>\n",
       "      <td>True</td>\n",
       "    </tr>\n",
       "  </tbody>\n",
       "</table>\n",
       "</div>"
      ],
      "text/plain": [
       "  PassengerId HomePlanet CryoSleep  Cabin  Destination   Age    VIP  \\\n",
       "0     0001_01     Europa     False  B/0/P  TRAPPIST-1e  39.0  False   \n",
       "1     0002_01      Earth     False  F/0/S  TRAPPIST-1e  24.0  False   \n",
       "2     0003_01     Europa     False  A/0/S  TRAPPIST-1e  58.0   True   \n",
       "3     0003_02     Europa     False  A/0/S  TRAPPIST-1e  33.0  False   \n",
       "4     0004_01      Earth     False  F/1/S  TRAPPIST-1e  16.0  False   \n",
       "\n",
       "   RoomService  FoodCourt  ShoppingMall     Spa  VRDeck               Name  \\\n",
       "0          0.0        0.0           0.0     0.0     0.0    Maham Ofracculy   \n",
       "1        109.0        9.0          25.0   549.0    44.0       Juanna Vines   \n",
       "2         43.0     3576.0           0.0  6715.0    49.0      Altark Susent   \n",
       "3          0.0     1283.0         371.0  3329.0   193.0       Solam Susent   \n",
       "4        303.0       70.0         151.0   565.0     2.0  Willy Santantines   \n",
       "\n",
       "   Transported  \n",
       "0        False  \n",
       "1         True  \n",
       "2        False  \n",
       "3        False  \n",
       "4         True  "
      ]
     },
     "execution_count": 2,
     "metadata": {},
     "output_type": "execute_result"
    }
   ],
   "source": [
    "df = pd.read_csv('train.csv')\n",
    "df.head(5)"
   ]
  },
  {
   "cell_type": "code",
   "execution_count": 3,
   "id": "6b5542f1",
   "metadata": {},
   "outputs": [
    {
     "data": {
      "text/plain": [
       "(8693, 14)"
      ]
     },
     "execution_count": 3,
     "metadata": {},
     "output_type": "execute_result"
    }
   ],
   "source": [
    "df.shape "
   ]
  },
  {
   "cell_type": "code",
   "execution_count": 4,
   "id": "4300290b",
   "metadata": {},
   "outputs": [
    {
     "data": {
      "text/html": [
       "<div>\n",
       "<style scoped>\n",
       "    .dataframe tbody tr th:only-of-type {\n",
       "        vertical-align: middle;\n",
       "    }\n",
       "\n",
       "    .dataframe tbody tr th {\n",
       "        vertical-align: top;\n",
       "    }\n",
       "\n",
       "    .dataframe thead th {\n",
       "        text-align: right;\n",
       "    }\n",
       "</style>\n",
       "<table border=\"1\" class=\"dataframe\">\n",
       "  <thead>\n",
       "    <tr style=\"text-align: right;\">\n",
       "      <th></th>\n",
       "      <th>Age</th>\n",
       "      <th>RoomService</th>\n",
       "      <th>FoodCourt</th>\n",
       "      <th>ShoppingMall</th>\n",
       "      <th>Spa</th>\n",
       "      <th>VRDeck</th>\n",
       "    </tr>\n",
       "  </thead>\n",
       "  <tbody>\n",
       "    <tr>\n",
       "      <th>count</th>\n",
       "      <td>8514.000000</td>\n",
       "      <td>8512.000000</td>\n",
       "      <td>8510.000000</td>\n",
       "      <td>8485.000000</td>\n",
       "      <td>8510.000000</td>\n",
       "      <td>8505.000000</td>\n",
       "    </tr>\n",
       "    <tr>\n",
       "      <th>mean</th>\n",
       "      <td>28.827930</td>\n",
       "      <td>224.687617</td>\n",
       "      <td>458.077203</td>\n",
       "      <td>173.729169</td>\n",
       "      <td>311.138778</td>\n",
       "      <td>304.854791</td>\n",
       "    </tr>\n",
       "    <tr>\n",
       "      <th>std</th>\n",
       "      <td>14.489021</td>\n",
       "      <td>666.717663</td>\n",
       "      <td>1611.489240</td>\n",
       "      <td>604.696458</td>\n",
       "      <td>1136.705535</td>\n",
       "      <td>1145.717189</td>\n",
       "    </tr>\n",
       "    <tr>\n",
       "      <th>min</th>\n",
       "      <td>0.000000</td>\n",
       "      <td>0.000000</td>\n",
       "      <td>0.000000</td>\n",
       "      <td>0.000000</td>\n",
       "      <td>0.000000</td>\n",
       "      <td>0.000000</td>\n",
       "    </tr>\n",
       "    <tr>\n",
       "      <th>25%</th>\n",
       "      <td>19.000000</td>\n",
       "      <td>0.000000</td>\n",
       "      <td>0.000000</td>\n",
       "      <td>0.000000</td>\n",
       "      <td>0.000000</td>\n",
       "      <td>0.000000</td>\n",
       "    </tr>\n",
       "    <tr>\n",
       "      <th>50%</th>\n",
       "      <td>27.000000</td>\n",
       "      <td>0.000000</td>\n",
       "      <td>0.000000</td>\n",
       "      <td>0.000000</td>\n",
       "      <td>0.000000</td>\n",
       "      <td>0.000000</td>\n",
       "    </tr>\n",
       "    <tr>\n",
       "      <th>75%</th>\n",
       "      <td>38.000000</td>\n",
       "      <td>47.000000</td>\n",
       "      <td>76.000000</td>\n",
       "      <td>27.000000</td>\n",
       "      <td>59.000000</td>\n",
       "      <td>46.000000</td>\n",
       "    </tr>\n",
       "    <tr>\n",
       "      <th>max</th>\n",
       "      <td>79.000000</td>\n",
       "      <td>14327.000000</td>\n",
       "      <td>29813.000000</td>\n",
       "      <td>23492.000000</td>\n",
       "      <td>22408.000000</td>\n",
       "      <td>24133.000000</td>\n",
       "    </tr>\n",
       "  </tbody>\n",
       "</table>\n",
       "</div>"
      ],
      "text/plain": [
       "               Age   RoomService     FoodCourt  ShoppingMall           Spa  \\\n",
       "count  8514.000000   8512.000000   8510.000000   8485.000000   8510.000000   \n",
       "mean     28.827930    224.687617    458.077203    173.729169    311.138778   \n",
       "std      14.489021    666.717663   1611.489240    604.696458   1136.705535   \n",
       "min       0.000000      0.000000      0.000000      0.000000      0.000000   \n",
       "25%      19.000000      0.000000      0.000000      0.000000      0.000000   \n",
       "50%      27.000000      0.000000      0.000000      0.000000      0.000000   \n",
       "75%      38.000000     47.000000     76.000000     27.000000     59.000000   \n",
       "max      79.000000  14327.000000  29813.000000  23492.000000  22408.000000   \n",
       "\n",
       "             VRDeck  \n",
       "count   8505.000000  \n",
       "mean     304.854791  \n",
       "std     1145.717189  \n",
       "min        0.000000  \n",
       "25%        0.000000  \n",
       "50%        0.000000  \n",
       "75%       46.000000  \n",
       "max    24133.000000  "
      ]
     },
     "execution_count": 4,
     "metadata": {},
     "output_type": "execute_result"
    }
   ],
   "source": [
    "df.describe()"
   ]
  },
  {
   "cell_type": "code",
   "execution_count": 5,
   "id": "fdd16daf",
   "metadata": {},
   "outputs": [
    {
     "name": "stdout",
     "output_type": "stream",
     "text": [
      "<class 'pandas.core.frame.DataFrame'>\n",
      "RangeIndex: 8693 entries, 0 to 8692\n",
      "Data columns (total 14 columns):\n",
      " #   Column        Non-Null Count  Dtype  \n",
      "---  ------        --------------  -----  \n",
      " 0   PassengerId   8693 non-null   object \n",
      " 1   HomePlanet    8492 non-null   object \n",
      " 2   CryoSleep     8476 non-null   object \n",
      " 3   Cabin         8494 non-null   object \n",
      " 4   Destination   8511 non-null   object \n",
      " 5   Age           8514 non-null   float64\n",
      " 6   VIP           8490 non-null   object \n",
      " 7   RoomService   8512 non-null   float64\n",
      " 8   FoodCourt     8510 non-null   float64\n",
      " 9   ShoppingMall  8485 non-null   float64\n",
      " 10  Spa           8510 non-null   float64\n",
      " 11  VRDeck        8505 non-null   float64\n",
      " 12  Name          8493 non-null   object \n",
      " 13  Transported   8693 non-null   bool   \n",
      "dtypes: bool(1), float64(6), object(7)\n",
      "memory usage: 891.5+ KB\n"
     ]
    }
   ],
   "source": [
    "df.info()"
   ]
  },
  {
   "cell_type": "code",
   "execution_count": 6,
   "id": "537c5733",
   "metadata": {},
   "outputs": [
    {
     "data": {
      "text/plain": [
       "array(['0001_01', '0002_01', '0003_01', ..., '9279_01', '9280_01',\n",
       "       '9280_02'], dtype=object)"
      ]
     },
     "execution_count": 6,
     "metadata": {},
     "output_type": "execute_result"
    }
   ],
   "source": [
    "df.PassengerId.unique()"
   ]
  },
  {
   "cell_type": "code",
   "execution_count": 7,
   "id": "83ed2a29",
   "metadata": {},
   "outputs": [
    {
     "data": {
      "text/plain": [
       "8693"
      ]
     },
     "execution_count": 7,
     "metadata": {},
     "output_type": "execute_result"
    }
   ],
   "source": [
    "df.PassengerId.nunique()"
   ]
  },
  {
   "cell_type": "code",
   "execution_count": 8,
   "id": "cf8486f5",
   "metadata": {},
   "outputs": [
    {
     "data": {
      "text/plain": [
       "array(['Europa', 'Earth', 'Mars', nan], dtype=object)"
      ]
     },
     "execution_count": 8,
     "metadata": {},
     "output_type": "execute_result"
    }
   ],
   "source": [
    "df.HomePlanet.unique()"
   ]
  },
  {
   "cell_type": "code",
   "execution_count": 9,
   "id": "d02b851a",
   "metadata": {},
   "outputs": [
    {
     "data": {
      "text/plain": [
       "array([False, True, nan], dtype=object)"
      ]
     },
     "execution_count": 9,
     "metadata": {},
     "output_type": "execute_result"
    }
   ],
   "source": [
    "df.CryoSleep.unique()"
   ]
  },
  {
   "cell_type": "code",
   "execution_count": 10,
   "id": "7db2ccb6",
   "metadata": {},
   "outputs": [
    {
     "data": {
      "text/plain": [
       "array(['B/0/P', 'F/0/S', 'A/0/S', ..., 'G/1499/S', 'G/1500/S', 'E/608/S'],\n",
       "      dtype=object)"
      ]
     },
     "execution_count": 10,
     "metadata": {},
     "output_type": "execute_result"
    }
   ],
   "source": [
    "df.Cabin.unique()"
   ]
  },
  {
   "cell_type": "code",
   "execution_count": 11,
   "id": "b1ef2026",
   "metadata": {},
   "outputs": [
    {
     "data": {
      "text/plain": [
       "array(['TRAPPIST-1e', 'PSO J318.5-22', '55 Cancri e', nan], dtype=object)"
      ]
     },
     "execution_count": 11,
     "metadata": {},
     "output_type": "execute_result"
    }
   ],
   "source": [
    "df.Destination.unique()"
   ]
  },
  {
   "cell_type": "code",
   "execution_count": 12,
   "id": "941657c6",
   "metadata": {},
   "outputs": [
    {
     "data": {
      "text/plain": [
       "array([False, True, nan], dtype=object)"
      ]
     },
     "execution_count": 12,
     "metadata": {},
     "output_type": "execute_result"
    }
   ],
   "source": [
    "df.VIP.unique()"
   ]
  },
  {
   "cell_type": "code",
   "execution_count": 13,
   "id": "4b623f38",
   "metadata": {},
   "outputs": [
    {
     "data": {
      "text/plain": [
       "array(['Maham Ofracculy', 'Juanna Vines', 'Altark Susent', ...,\n",
       "       'Fayey Connon', 'Celeon Hontichre', 'Propsh Hontichre'],\n",
       "      dtype=object)"
      ]
     },
     "execution_count": 13,
     "metadata": {},
     "output_type": "execute_result"
    }
   ],
   "source": [
    "df.Name.unique()"
   ]
  },
  {
   "cell_type": "code",
   "execution_count": 14,
   "id": "d12abcd3",
   "metadata": {},
   "outputs": [
    {
     "data": {
      "text/plain": [
       "Transported\n",
       "True     0.503624\n",
       "False    0.496376\n",
       "Name: proportion, dtype: float64"
      ]
     },
     "execution_count": 14,
     "metadata": {},
     "output_type": "execute_result"
    }
   ],
   "source": [
    "df.Transported.value_counts(normalize=True) \n",
    "# by looking at the value counts of the target variable, we can see that the dataset is almost balanced. so we can use any classification algorithm to train the model."
   ]
  },
  {
   "cell_type": "code",
   "execution_count": 15,
   "id": "f3727cf3",
   "metadata": {},
   "outputs": [
    {
     "name": "stderr",
     "output_type": "stream",
     "text": [
      "C:\\Users\\madhu\\AppData\\Local\\Temp\\ipykernel_25368\\2018034694.py:2: FutureWarning: \n",
      "\n",
      "Passing `palette` without assigning `hue` is deprecated and will be removed in v0.14.0. Assign the `x` variable to `hue` and set `legend=False` for the same effect.\n",
      "\n",
      "  sns.countplot(x='Transported', data=df, palette='Set2')\n"
     ]
    },
    {
     "data": {
      "image/png": "[encoded data removed]",
      "text/plain": [
       "<Figure size 1000x500 with 1 Axes>"
      ]
     },
     "metadata": {},
     "output_type": "display_data"
    }
   ],
   "source": [
    "plt.figure(figsize=(10, 5))\n",
    "sns.countplot(x='Transported', data=df, palette='Set2')\n",
    "plt.title('Count of Transported and Not Transported Passengers')\n",
    "plt.xlabel('Transported')\n",
    "plt.ylabel('Count')\n",
    "plt.show() \n"
   ]
  },
  {
   "cell_type": "markdown",
   "id": "25e4c93b",
   "metadata": {},
   "source": [
    "### 🔍 Exploratory Data Analysis (EDA)"
   ]
  },
  {
   "cell_type": "code",
   "execution_count": 16,
   "id": "93d983bc",
   "metadata": {},
   "outputs": [
    {
     "data": {
      "text/plain": [
       "PassengerId       0\n",
       "HomePlanet      201\n",
       "CryoSleep       217\n",
       "Cabin           199\n",
       "Destination     182\n",
       "Age             179\n",
       "VIP             203\n",
       "RoomService     181\n",
       "FoodCourt       183\n",
       "ShoppingMall    208\n",
       "Spa             183\n",
       "VRDeck          188\n",
       "Name            200\n",
       "Transported       0\n",
       "dtype: int64"
      ]
     },
     "execution_count": 16,
     "metadata": {},
     "output_type": "execute_result"
    }
   ],
   "source": [
    "df.isnull().sum()"
   ]
  },
  {
   "cell_type": "code",
   "execution_count": 17,
   "id": "ed1b4181",
   "metadata": {},
   "outputs": [
    {
     "data": {
      "text/plain": [
       "count     8512.000000\n",
       "mean       224.687617\n",
       "std        666.717663\n",
       "min          0.000000\n",
       "25%          0.000000\n",
       "50%          0.000000\n",
       "75%         47.000000\n",
       "max      14327.000000\n",
       "Name: RoomService, dtype: float64"
      ]
     },
     "execution_count": 17,
     "metadata": {},
     "output_type": "execute_result"
    }
   ],
   "source": [
    "df.RoomService.describe() "
   ]
  },
  {
   "cell_type": "code",
   "execution_count": 18,
   "id": "a6ad0ffe",
   "metadata": {},
   "outputs": [
    {
     "data": {
      "image/png": "[encoded data removed]",
      "text/plain": [
       "<Figure size 1000x600 with 1 Axes>"
      ]
     },
     "metadata": {},
     "output_type": "display_data"
    }
   ],
   "source": [
    "plt.figure(figsize=(10,6)) \n",
    "sns.histplot(df.RoomService, bins=20, kde=True) \n",
    "plt.title('Room Service Distribution')\n",
    "plt.xlabel('Room Service')\n",
    "plt.ylabel('Count')\n",
    "plt.show() "
   ]
  },
  {
   "cell_type": "code",
   "execution_count": 19,
   "id": "2f532662",
   "metadata": {},
   "outputs": [
    {
     "data": {
      "text/plain": [
       "RoomService\n",
       "0.0       0.655193\n",
       "1.0       0.013745\n",
       "2.0       0.009281\n",
       "3.0       0.007166\n",
       "4.0       0.005522\n",
       "            ...   \n",
       "6899.0    0.000117\n",
       "1954.0    0.000117\n",
       "3146.0    0.000117\n",
       "1297.0    0.000117\n",
       "2555.0    0.000117\n",
       "Name: proportion, Length: 1273, dtype: float64"
      ]
     },
     "execution_count": 19,
     "metadata": {},
     "output_type": "execute_result"
    }
   ],
   "source": [
    "df.RoomService.value_counts(normalize=True)"
   ]
  },
  {
   "cell_type": "code",
   "execution_count": 20,
   "id": "a44e1b2a",
   "metadata": {},
   "outputs": [
    {
     "data": {
      "text/plain": [
       "0          0.0\n",
       "1         44.0\n",
       "2         49.0\n",
       "3        193.0\n",
       "4          2.0\n",
       "         ...  \n",
       "8688      74.0\n",
       "8689       0.0\n",
       "8690       0.0\n",
       "8691    3235.0\n",
       "8692      12.0\n",
       "Name: VRDeck, Length: 8693, dtype: float64"
      ]
     },
     "execution_count": 20,
     "metadata": {},
     "output_type": "execute_result"
    }
   ],
   "source": [
    "df2 = df.copy()  \n",
    "df2.RoomService.fillna(0)  \n",
    "# I assume that nan values are the people who didn't spend on the room service   \n",
    "# also we can do the same for the other spaceship's luxury amentities null values too\n",
    "df2.FoodCourt.fillna(0) \n",
    "df2.ShoppingMall.fillna(0) \n",
    "df2.ShoppingMall.fillna(0) \n",
    "df2.Spa.fillna(0) \n",
    "df2.VRDeck.fillna(0) "
   ]
  },
  {
   "cell_type": "code",
   "execution_count": 21,
   "id": "dd760422",
   "metadata": {},
   "outputs": [
    {
     "data": {
      "text/plain": [
       "FoodCourt\n",
       "0.0        0.641128\n",
       "1.0        0.013631\n",
       "2.0        0.008813\n",
       "3.0        0.006228\n",
       "4.0        0.006228\n",
       "             ...   \n",
       "1585.0     0.000118\n",
       "749.0      0.000118\n",
       "1961.0     0.000118\n",
       "522.0      0.000118\n",
       "14773.0    0.000118\n",
       "Name: proportion, Length: 1507, dtype: float64"
      ]
     },
     "execution_count": 21,
     "metadata": {},
     "output_type": "execute_result"
    }
   ],
   "source": [
    "df.FoodCourt.value_counts(normalize=True) "
   ]
  },
  {
   "cell_type": "code",
   "execution_count": 22,
   "id": "255ffbca",
   "metadata": {},
   "outputs": [
    {
     "data": {
      "image/png": "[encoded data removed]",
      "text/plain": [
       "<Figure size 1000x600 with 1 Axes>"
      ]
     },
     "metadata": {},
     "output_type": "display_data"
    }
   ],
   "source": [
    "plt.figure(figsize=(10,6)) \n",
    "sns.histplot(df.FoodCourt, bins=20, kde=True) \n",
    "plt.title('Food Court Distribution')\n",
    "plt.xlabel('Food Court')\n",
    "plt.ylabel('Count')\n",
    "plt.show() \n",
    "\n",
    "# by "
   ]
  },
  {
   "cell_type": "code",
   "execution_count": 23,
   "id": "555e25a4",
   "metadata": {},
   "outputs": [
    {
     "data": {
      "text/plain": [
       "PassengerId       0\n",
       "HomePlanet      201\n",
       "CryoSleep       217\n",
       "Cabin           199\n",
       "Destination     182\n",
       "Age             179\n",
       "VIP             203\n",
       "RoomService     181\n",
       "FoodCourt       183\n",
       "ShoppingMall    208\n",
       "Spa             183\n",
       "VRDeck          188\n",
       "Name            200\n",
       "Transported       0\n",
       "dtype: int64"
      ]
     },
     "execution_count": 23,
     "metadata": {},
     "output_type": "execute_result"
    }
   ],
   "source": [
    "df2.isnull().sum()  "
   ]
  },
  {
   "cell_type": "code",
   "execution_count": 24,
   "id": "4bcacac5",
   "metadata": {},
   "outputs": [
    {
     "data": {
      "text/plain": [
       "(8693, 14)"
      ]
     },
     "execution_count": 24,
     "metadata": {},
     "output_type": "execute_result"
    }
   ],
   "source": [
    "df.shape "
   ]
  },
  {
   "cell_type": "code",
   "execution_count": 25,
   "id": "f3fc617d",
   "metadata": {},
   "outputs": [
    {
     "data": {
      "text/plain": [
       "PassengerId     0\n",
       "HomePlanet      0\n",
       "CryoSleep       0\n",
       "Cabin           0\n",
       "Destination     0\n",
       "Age             0\n",
       "VIP             0\n",
       "RoomService     0\n",
       "FoodCourt       0\n",
       "ShoppingMall    0\n",
       "Spa             0\n",
       "VRDeck          0\n",
       "Name            0\n",
       "Transported     0\n",
       "dtype: int64"
      ]
     },
     "execution_count": 25,
     "metadata": {},
     "output_type": "execute_result"
    }
   ],
   "source": [
    "df2 = df.dropna()\n",
    "df2.isnull().sum()"
   ]
  },
  {
   "cell_type": "code",
   "execution_count": 26,
   "id": "f83ca471",
   "metadata": {},
   "outputs": [
    {
     "data": {
      "text/plain": [
       "(6606, 14)"
      ]
     },
     "execution_count": 26,
     "metadata": {},
     "output_type": "execute_result"
    }
   ],
   "source": [
    "df2.shape "
   ]
  },
  {
   "cell_type": "code",
   "execution_count": 27,
   "id": "368f1fbf",
   "metadata": {},
   "outputs": [
    {
     "data": {
      "image/png": "[encoded data removed]",
      "text/plain": [
       "<Figure size 1000x600 with 1 Axes>"
      ]
     },
     "metadata": {},
     "output_type": "display_data"
    }
   ],
   "source": [
    "plt.figure(figsize=(10, 6))\n",
    "sns.histplot(df.HomePlanet, bins=20, kde=True)\n",
    "plt.title('HomePlanet Distribution')\n",
    "plt.xlabel('HomePlanet')\n",
    "plt.ylabel('Count')\n",
    "plt.show()"
   ]
  },
  {
   "cell_type": "code",
   "execution_count": null,
   "id": "91ed8e99",
   "metadata": {},
   "outputs": [
    {
     "data": {
      "text/plain": [
       "Text(0.5, 0.98, 'Pairplot of features coloured by Transported')"
      ]
     },
     "execution_count": 28,
     "metadata": {},
     "output_type": "execute_result"
    },
    {
     "data": {
      "text/plain": [
       "<Figure size 1000x600 with 0 Axes>"
      ]
     },
     "metadata": {},
     "output_type": "display_data"
    }
   ],
   "source": [
    "plt.figure(figsize=(10,6)) \n",
    "sns.pairplot(df, hue='Transported', palette='Set2', diag_kind='kde')\n",
    "plt.suptitle('Pairplot of features coloured by Transported') "
   ]
  },
  {
   "cell_type": "code",
   "execution_count": null,
   "id": "0a4d75a4",
   "metadata": {},
   "outputs": [],
   "source": []
  }
 ],
 "metadata": {
  "kernelspec": {
   "display_name": "Python 3",
   "language": "python",
   "name": "python3"
  },
  "language_info": {
   "codemirror_mode": {
    "name": "ipython",
    "version": 3
   },
   "file_extension": ".py",
   "mimetype": "text/x-python",
   "name": "python",
   "nbconvert_exporter": "python",
   "pygments_lexer": "ipython3",
   "version": "3.12.10"
  }
 },
 "nbformat": 4,
 "nbformat_minor": 5
}
